{
  "nbformat": 4,
  "nbformat_minor": 0,
  "metadata": {
    "colab": {
      "name": "3. Listas Doblemente Enlazadas.ipynb",
      "provenance": [],
      "collapsed_sections": [],
      "authorship_tag": "ABX9TyMn9nDpPZzSXj/XONIX8aDm",
      "include_colab_link": true
    },
    "kernelspec": {
      "name": "python3",
      "display_name": "Python 3"
    },
    "language_info": {
      "name": "python"
    }
  },
  "cells": [
    {
      "cell_type": "markdown",
      "metadata": {
        "id": "view-in-github",
        "colab_type": "text"
      },
      "source": [
        "<a href=\"https://colab.research.google.com/github/Erwin14k/TAREAS-IPC2/blob/main/3_Listas_Doblemente_Enlazadas.ipynb\" target=\"_parent\"><img src=\"https://colab.research.google.com/assets/colab-badge.svg\" alt=\"Open In Colab\"/></a>"
      ]
    },
    {
      "cell_type": "markdown",
      "metadata": {
        "id": "wqaWPDTAvfJp"
      },
      "source": [
        "***Listas Doblemente Enlazadas***"
      ]
    },
    {
      "cell_type": "markdown",
      "metadata": {
        "id": "Ml4iL7xFvkIc"
      },
      "source": [
        "**Definición de la clase estudiante**"
      ]
    },
    {
      "cell_type": "code",
      "metadata": {
        "id": "H0F5MLuhvhij"
      },
      "source": [
        "class estudiante:\n",
        "  def __init__(self,carne,nombre,edad,direccion,telefono,email,carrera,puesto):\n",
        "    self.carne = carne\n",
        "    self.nombre = nombre\n",
        "    self.edad = edad\n",
        "    self.direccion = direccion\n",
        "    self.telefono = telefono\n",
        "    self.email = email\n",
        "    self.carrera = carrera\n",
        "    self.puesto = puesto"
      ],
      "execution_count": 28,
      "outputs": []
    },
    {
      "cell_type": "markdown",
      "metadata": {
        "id": "emEUzzq3vqof"
      },
      "source": [
        "**Definición de la clase Nodo**"
      ]
    },
    {
      "cell_type": "code",
      "metadata": {
        "id": "9S0iVDATvuZK"
      },
      "source": [
        "class nodo:\n",
        "  def __init__(self, estudiante=None, siguiente=None,anterior=None):\n",
        "    self.estudiante = estudiante\n",
        "    self.siguiente = siguiente\n",
        "    self.anterior = anterior"
      ],
      "execution_count": 29,
      "outputs": []
    },
    {
      "cell_type": "markdown",
      "metadata": {
        "id": "TIYPNUJ9vxm5"
      },
      "source": [
        "****Definición de la clase Lista Doblemente Enlazada**"
      ]
    },
    {
      "cell_type": "code",
      "metadata": {
        "id": "lRd8A5rYv5Ql"
      },
      "source": [
        "class lista_doble:\n",
        "  def __init__(self):\n",
        "    self.primero=None\n",
        "\n",
        "  def insertar(self,estudiante):\n",
        "    if self.primero is None:\n",
        "      self.primero = nodo(estudiante=estudiante)\n",
        "    else:\n",
        "      actual = nodo(estudiante=estudiante,siguiente=self.primero)\n",
        "      self.primero.anterior = actual\n",
        "      self.primero = actual\n",
        "\n",
        "  def recorrer(self):\n",
        "    if self.primero is None:\n",
        "      return\n",
        "    actual = self.primero\n",
        "    print(\"Carne: \",actual.estudiante.carne, \" Nombre: \",actual.estudiante.nombre, \" Email: \",actual.estudiante.email,\"---\")\n",
        "    while actual.siguiente:\n",
        "      actual = actual.siguiente\n",
        "      print(\"Carne: \",actual.estudiante.carne, \" Nombre: \",actual.estudiante.nombre, \" Email: \",actual.estudiante.email,\"---\")\n",
        "\n",
        "  def eliminar(self,carne):\n",
        "    actual = self.primero\n",
        "    while actual:\n",
        "      if actual.estudiante.carne == carne:\n",
        "        if actual.anterior:\n",
        "          if actual.siguiente:\n",
        "            actual.anterior.siguiente = actual.siguiente\n",
        "            actual.siguiente.anterior = actual.anterior\n",
        "          else: \n",
        "            actual.anterior.siguiente = None\n",
        "            actual.anterior = None\n",
        "        else:\n",
        "          if actual.siguiente:\n",
        "            self.primero=actual.siguiente\n",
        "            actual.siguiente.anterior = None\n",
        "          else:\n",
        "            self.primero = None\n",
        "        return True\n",
        "      else:\n",
        "        actual=actual.siguiente\n",
        "    return False\n",
        "  \n",
        "  def buscar(self,carne):\n",
        "    actual = self.primero\n",
        "    while actual.estudiante.carne!=carne:\n",
        "      print(\"\")\n",
        "    print(\"Carne: \",actual.estudiante.carne, \" Nombre: \",actual.estudiante.nombre, \" Email: \",actual.estudiante.email,\"---\")\n",
        "\n",
        "\n",
        "    \n",
        "\n",
        "\n",
        "\n",
        "\n"
      ],
      "execution_count": 30,
      "outputs": []
    },
    {
      "cell_type": "markdown",
      "metadata": {
        "id": "381nHkGQ2M0G"
      },
      "source": [
        "**Creación de objetos estudiante**"
      ]
    },
    {
      "cell_type": "code",
      "metadata": {
        "id": "gAFB5k9l2P6b"
      },
      "source": [
        "e1 = estudiante(201915059,\"Gerson Ortiz\",20,\"9 calle 10-02 zona 1\",24400101,\"gerson.ortiz@gmail.com\",\"Ingeniería en sistemas\",\"Programador Jr\")\n",
        "e2 = estudiante(201915060,\"Karen Hurarte\",20,\"7 calle 10-02 zona 1\",24400102,\"karen.hurarte@gmail.com\",\"Ingeniería en sistemas\",\"Programador Jr\")\n",
        "e3 = estudiante(201915051,\"Luis Mendez\",20,\"8 calle 10-02 zona 1\",24400103,\"luis.mendez@gmail.com\",\"Ingeniería en sistemas\",\"Programador Jr\")"
      ],
      "execution_count": 31,
      "outputs": []
    },
    {
      "cell_type": "markdown",
      "metadata": {
        "id": "bClCemOS2So_"
      },
      "source": [
        "**Inserción**"
      ]
    },
    {
      "cell_type": "code",
      "metadata": {
        "id": "MdYEsjnd2XFu"
      },
      "source": [
        "lista_d=lista_doble()\n",
        "lista_d.insertar(e1)\n",
        "lista_d.insertar(e2)\n",
        "lista_d.insertar(e3)"
      ],
      "execution_count": 32,
      "outputs": []
    },
    {
      "cell_type": "markdown",
      "metadata": {
        "id": "uK-2sHeV5U48"
      },
      "source": [
        "**Recorrer La Lista**"
      ]
    },
    {
      "cell_type": "code",
      "metadata": {
        "colab": {
          "base_uri": "https://localhost:8080/"
        },
        "id": "y9rWOnkB5XcQ",
        "outputId": "a33eec66-3b3c-45e8-d570-957f9c744721"
      },
      "source": [
        "lista_d.recorrer()"
      ],
      "execution_count": 33,
      "outputs": [
        {
          "output_type": "stream",
          "text": [
            "Carne:  201915051  Nombre:  Luis Mendez  Email:  luis.mendez@gmail.com ---\n",
            "Carne:  201915060  Nombre:  Karen Hurarte  Email:  karen.hurarte@gmail.com ---\n",
            "Carne:  201915059  Nombre:  Gerson Ortiz  Email:  gerson.ortiz@gmail.com ---\n"
          ],
          "name": "stdout"
        }
      ]
    },
    {
      "cell_type": "markdown",
      "metadata": {
        "id": "CJS-6mT1A1Tx"
      },
      "source": [
        "**Buscar Un Nodo De La Lista**"
      ]
    },
    {
      "cell_type": "code",
      "metadata": {
        "colab": {
          "base_uri": "https://localhost:8080/"
        },
        "id": "M2Q-hrGhA44I",
        "outputId": "0df10847-0bd1-4a2f-ac4d-97ad728cc354"
      },
      "source": [
        "lista_d.buscar(201915051)"
      ],
      "execution_count": 34,
      "outputs": [
        {
          "output_type": "stream",
          "text": [
            "Carne:  201915051  Nombre:  Luis Mendez  Email:  luis.mendez@gmail.com ---\n"
          ],
          "name": "stdout"
        }
      ]
    },
    {
      "cell_type": "markdown",
      "metadata": {
        "id": "8Bn2kBz85ahW"
      },
      "source": [
        "**Eliminar El Nodo Del Medio La Lista**"
      ]
    },
    {
      "cell_type": "code",
      "metadata": {
        "colab": {
          "base_uri": "https://localhost:8080/"
        },
        "id": "UIacNkdN5eaj",
        "outputId": "24b80c45-0ab2-4900-c855-81c1c8ff9635"
      },
      "source": [
        "lista_d.eliminar(201915060)\n",
        "lista_d.recorrer()"
      ],
      "execution_count": 35,
      "outputs": [
        {
          "output_type": "stream",
          "text": [
            "Carne:  201915051  Nombre:  Luis Mendez  Email:  luis.mendez@gmail.com ---\n",
            "Carne:  201915059  Nombre:  Gerson Ortiz  Email:  gerson.ortiz@gmail.com ---\n"
          ],
          "name": "stdout"
        }
      ]
    },
    {
      "cell_type": "markdown",
      "metadata": {
        "id": "zxC2zCyX8HMI"
      },
      "source": [
        "**Eliminar El Nodo Primero de La Lista**"
      ]
    },
    {
      "cell_type": "code",
      "metadata": {
        "colab": {
          "base_uri": "https://localhost:8080/"
        },
        "id": "MF90Kvub8DLD",
        "outputId": "ac889856-cd57-4c00-953b-0b56f2d4edf9"
      },
      "source": [
        "lista_d.eliminar(201915051)\n",
        "lista_d.recorrer()"
      ],
      "execution_count": 36,
      "outputs": [
        {
          "output_type": "stream",
          "text": [
            "Carne:  201915059  Nombre:  Gerson Ortiz  Email:  gerson.ortiz@gmail.com ---\n"
          ],
          "name": "stdout"
        }
      ]
    },
    {
      "cell_type": "markdown",
      "metadata": {
        "id": "QOuDISIZ8WfB"
      },
      "source": [
        "**Eliminar Último Nodo De La Lista**"
      ]
    },
    {
      "cell_type": "code",
      "metadata": {
        "id": "NxebSTrp8a6A"
      },
      "source": [
        "lista_d.eliminar(201915059)\n",
        "lista_d.recorrer()"
      ],
      "execution_count": 37,
      "outputs": []
    },
    {
      "cell_type": "markdown",
      "metadata": {
        "id": "i5zFzRf887YW"
      },
      "source": [
        "**Eliminar Nodo A Nodo De La Lista**"
      ]
    },
    {
      "cell_type": "code",
      "metadata": {
        "id": "mBrdomh79AAC"
      },
      "source": [
        "lista_d.eliminar(201915051)\n",
        "lista_d.recorrer()"
      ],
      "execution_count": 38,
      "outputs": []
    },
    {
      "cell_type": "code",
      "metadata": {
        "id": "X0r4P9Uk9VFm"
      },
      "source": [
        "lista_d.eliminar(201915060)\n",
        "lista_d.recorrer()"
      ],
      "execution_count": 39,
      "outputs": []
    },
    {
      "cell_type": "code",
      "metadata": {
        "id": "weYArfpi9YEp"
      },
      "source": [
        "lista_d.eliminar(201915059)\n",
        "lista_d.recorrer()"
      ],
      "execution_count": 40,
      "outputs": []
    }
  ]
}