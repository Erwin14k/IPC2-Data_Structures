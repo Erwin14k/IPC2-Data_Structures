{
  "nbformat": 4,
  "nbformat_minor": 0,
  "metadata": {
    "colab": {
      "name": "2. Listas Ciruculares.ipynb",
      "provenance": [],
      "collapsed_sections": [],
      "authorship_tag": "ABX9TyMFuel7bhurXrj0XBhmXwmo",
      "include_colab_link": true
    },
    "kernelspec": {
      "name": "python3",
      "display_name": "Python 3"
    },
    "language_info": {
      "name": "python"
    }
  },
  "cells": [
    {
      "cell_type": "markdown",
      "metadata": {
        "id": "view-in-github",
        "colab_type": "text"
      },
      "source": [
        "<a href=\"https://colab.research.google.com/github/Erwin14k/TAREAS-IPC2/blob/main/2_Listas_Ciruculares.ipynb\" target=\"_parent\"><img src=\"https://colab.research.google.com/assets/colab-badge.svg\" alt=\"Open In Colab\"/></a>"
      ]
    },
    {
      "cell_type": "markdown",
      "metadata": {
        "id": "7EH6e7vEzuWV"
      },
      "source": [
        "***Listas Ciruclares***\n"
      ]
    },
    {
      "cell_type": "markdown",
      "metadata": {
        "id": "4wh6DFVuz24A"
      },
      "source": [
        "**Definición de la clase Estudiante**"
      ]
    },
    {
      "cell_type": "code",
      "metadata": {
        "id": "P-PmVaJ4z1SK"
      },
      "source": [
        "class estudiante:\n",
        "  def __init__(self,carne,nombre,edad,direccion,telefono,email,carrera,puesto):\n",
        "    self.carne = carne\n",
        "    self.nombre = nombre\n",
        "    self.edad = edad\n",
        "    self.direccion = direccion\n",
        "    self.telefono = telefono\n",
        "    self.email = email\n",
        "    self.carrera = carrera\n",
        "    self.puesto = puesto"
      ],
      "execution_count": 33,
      "outputs": []
    },
    {
      "cell_type": "markdown",
      "metadata": {
        "id": "RePYcGNa0Nz4"
      },
      "source": [
        "**Definición de la clase Nodo**"
      ]
    },
    {
      "cell_type": "code",
      "metadata": {
        "id": "J68hnpul0RMY"
      },
      "source": [
        "class nodo:\n",
        "  def __init__(self, estudiante=None, siguiente=None):\n",
        "    self.estudiante = estudiante\n",
        "    self.siguiente = siguiente"
      ],
      "execution_count": 34,
      "outputs": []
    },
    {
      "cell_type": "markdown",
      "metadata": {
        "id": "VM4CHxdy0VnL"
      },
      "source": [
        "**Definición de la clase Lista Ciruclar**\n",
        "\n",
        "\n",
        "\n"
      ]
    },
    {
      "cell_type": "code",
      "metadata": {
        "id": "RJolZw-c0bSW"
      },
      "source": [
        "class lista_circular:\n",
        "  def __init__(self):\n",
        "    self.primero = None\n",
        "\n",
        "  def insertar(self,estudiante):\n",
        "    if self.primero is None:\n",
        "      self.primero = nodo(estudiante=estudiante)\n",
        "      self.primero.siguiente = self.primero\n",
        "    else:\n",
        "      actual = nodo(estudiante=estudiante, siguiente=self.primero.siguiente)\n",
        "      self.primero.siguiente = actual\n",
        "\n",
        "  def recorrer(self):\n",
        "    if self.primero is None:\n",
        "      return\n",
        "    actual = self.primero\n",
        "    print(\"carne: \",actual.estudiante.carne, \"nombre: \",actual.estudiante.nombre, \"email: \",actual.estudiante.email,\"---\")\n",
        "    while actual.siguiente != self.primero:\n",
        "      actual = actual.siguiente\n",
        "      print(\"carne: \",actual.estudiante.carne, \"nombre: \",actual.estudiante.nombre, \"email: \",actual.estudiante.email,\"---\")\n",
        "\n",
        "  def eliminar(self,carne):\n",
        "    actual=self.primero\n",
        "    anterior = None\n",
        "    no_encontrado= False\n",
        "    while actual and actual.estudiante.carne !=carne:\n",
        "      anterior = actual\n",
        "      actual = actual.siguiente\n",
        "      if actual == self.primero:\n",
        "        no_encontrado=True\n",
        "        break\n",
        "    if not no_encontrado:\n",
        "      if anterior is not None:\n",
        "        anterior.siguiente = actual.siguiente\n",
        "      else:\n",
        "        while actual.siguiente != self.primero:\n",
        "          actual=actual.siguiente\n",
        "      actual.siguiente = self.primero.siguiente\n",
        "      self.primero = self.primero.siguiente\n",
        "\n",
        "    \n",
        "  def buscar(self,carne):\n",
        "    actual=self.primero\n",
        "    anterior = None\n",
        "    no_encontrado= False\n",
        "    while actual and actual.estudiante.carne !=carne:\n",
        "      anterior = actual\n",
        "      actual = actual.siguiente\n",
        "      if actual == self.primero:\n",
        "        no_encontrado=True\n",
        "        break\n",
        "    print(\"Carne: \",actual.estudiante.carne, \" Nombre: \",actual.estudiante.nombre, \" Email: \",actual.estudiante.email,\"---\")\n",
        "      \n"
      ],
      "execution_count": 35,
      "outputs": []
    },
    {
      "cell_type": "markdown",
      "metadata": {
        "id": "oLIILKIB9xH5"
      },
      "source": [
        "**Creación de Objetos Estudiante**"
      ]
    },
    {
      "cell_type": "code",
      "metadata": {
        "id": "rTP8rMbf91So"
      },
      "source": [
        "e1 = estudiante(201915059,\"Gerson Ortiz\",20,\"9 calle 10-02 zona 1\",24400101,\"gerson.ortiz@gmail.com\",\"Ingeniería en sistemas\",\"Programador Jr\")\n",
        "e2 = estudiante(201915060,\"Karen Hurarte\",20,\"7 calle 10-02 zona 1\",24400102,\"karen.hurarte@gmail.com\",\"Ingeniería en sistemas\",\"Programador Jr\")\n",
        "e3 = estudiante(201915051,\"Luis Mendez\",20,\"8 calle 10-02 zona 1\",24400103,\"luis.mendez@gmail.com\",\"Ingeniería en sistemas\",\"Programador Jr\")"
      ],
      "execution_count": 36,
      "outputs": []
    },
    {
      "cell_type": "markdown",
      "metadata": {
        "id": "NspGQDLa98-G"
      },
      "source": [
        "**Inserción**"
      ]
    },
    {
      "cell_type": "code",
      "metadata": {
        "id": "g3RzAdzT-Ard"
      },
      "source": [
        "lista_c=lista_circular()\n",
        "lista_c.insertar(e1)\n",
        "lista_c.insertar(e2)\n",
        "lista_c.insertar(e3)"
      ],
      "execution_count": 37,
      "outputs": []
    },
    {
      "cell_type": "markdown",
      "metadata": {
        "id": "Sx6Zf5dL-M9L"
      },
      "source": [
        "**Recorrer la lista**"
      ]
    },
    {
      "cell_type": "code",
      "metadata": {
        "colab": {
          "base_uri": "https://localhost:8080/"
        },
        "id": "bNO2eI7F-PRL",
        "outputId": "7843e7ae-1467-4d9f-e0de-a1e911a0b8c7"
      },
      "source": [
        "lista_c.recorrer()"
      ],
      "execution_count": 38,
      "outputs": [
        {
          "output_type": "stream",
          "text": [
            "carne:  201915059 nombre:  Gerson Ortiz email:  gerson.ortiz@gmail.com ---\n",
            "carne:  201915051 nombre:  Luis Mendez email:  luis.mendez@gmail.com ---\n",
            "carne:  201915060 nombre:  Karen Hurarte email:  karen.hurarte@gmail.com ---\n"
          ],
          "name": "stdout"
        }
      ]
    },
    {
      "cell_type": "markdown",
      "metadata": {
        "id": "yT9FWSnOrpJa"
      },
      "source": [
        "**Eliminar un nodo de la lista**"
      ]
    },
    {
      "cell_type": "code",
      "metadata": {
        "colab": {
          "base_uri": "https://localhost:8080/"
        },
        "id": "7iMRrlHhrsaN",
        "outputId": "5a69ac8b-a222-4691-89b7-1947c26ea5dc"
      },
      "source": [
        "lista_c.eliminar(201915060)\n",
        "lista_c.recorrer()"
      ],
      "execution_count": 39,
      "outputs": [
        {
          "output_type": "stream",
          "text": [
            "carne:  201915051 nombre:  Luis Mendez email:  luis.mendez@gmail.com ---\n",
            "carne:  201915059 nombre:  Gerson Ortiz email:  gerson.ortiz@gmail.com ---\n"
          ],
          "name": "stdout"
        }
      ]
    },
    {
      "cell_type": "markdown",
      "metadata": {
        "id": "yI4TAWs_uaJ9"
      },
      "source": [
        "**Buscar un nodo de la lista**"
      ]
    },
    {
      "cell_type": "code",
      "metadata": {
        "id": "1jk5WgznudLI",
        "colab": {
          "base_uri": "https://localhost:8080/"
        },
        "outputId": "32617331-aa43-41d0-bf56-2cab3deb33e4"
      },
      "source": [
        "lista_c.buscar(201915051)"
      ],
      "execution_count": 40,
      "outputs": [
        {
          "output_type": "stream",
          "text": [
            "Carne:  201915051  Nombre:  Luis Mendez  Email:  luis.mendez@gmail.com ---\n"
          ],
          "name": "stdout"
        }
      ]
    }
  ]
}