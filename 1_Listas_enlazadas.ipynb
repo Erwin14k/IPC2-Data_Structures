{
  "nbformat": 4,
  "nbformat_minor": 0,
  "metadata": {
    "colab": {
      "name": "1.Listas enlazadas.ipynb",
      "provenance": [],
      "collapsed_sections": [],
      "authorship_tag": "ABX9TyNPiIrkSi62f/UvZJRrcV0o",
      "include_colab_link": true
    },
    "kernelspec": {
      "name": "python3",
      "display_name": "Python 3"
    },
    "language_info": {
      "name": "python"
    }
  },
  "cells": [
    {
      "cell_type": "markdown",
      "metadata": {
        "id": "view-in-github",
        "colab_type": "text"
      },
      "source": [
        "<a href=\"https://colab.research.google.com/github/Erwin14k/TAREAS-IPC2/blob/main/1_Listas_enlazadas.ipynb\" target=\"_parent\"><img src=\"https://colab.research.google.com/assets/colab-badge.svg\" alt=\"Open In Colab\"/></a>"
      ]
    },
    {
      "cell_type": "markdown",
      "metadata": {
        "id": "p5zXv3_ruPs7"
      },
      "source": [
        "###**Listas Enlazadas**\n",
        "**Definición de la clase Estudiante**\n"
      ]
    },
    {
      "cell_type": "code",
      "metadata": {
        "id": "2r-NVudlvtpB"
      },
      "source": [
        "class estudiante:\n",
        "  def __init__(self,carne,nombre,edad,direccion,telefono,email,carrera,puesto):\n",
        "    self.carne = carne\n",
        "    self.nombre = nombre\n",
        "    self.edad = edad\n",
        "    self.direccion = direccion\n",
        "    self.telefono = telefono\n",
        "    self.email = email\n",
        "    self.carrera = carrera\n",
        "    self.puesto = puesto\n"
      ],
      "execution_count": 73,
      "outputs": []
    },
    {
      "cell_type": "markdown",
      "metadata": {
        "id": "jwmi3pwzzWwO"
      },
      "source": [
        "**Definición de la clase Nodo**\n"
      ]
    },
    {
      "cell_type": "code",
      "metadata": {
        "id": "jVeC0yBTzb7R"
      },
      "source": [
        "class nodo:\n",
        "  def __init__(self, estudiante=None, siguiente=None):\n",
        "    self.estudiante = estudiante\n",
        "    self.siguiente = siguiente\n",
        "\n"
      ],
      "execution_count": 74,
      "outputs": []
    },
    {
      "cell_type": "markdown",
      "metadata": {
        "id": "Bx0PiMLs7U_c"
      },
      "source": [
        "**Definición de la clase Lista Enlazada**"
      ]
    },
    {
      "cell_type": "code",
      "metadata": {
        "id": "Ej5dKxDs7Ybo"
      },
      "source": [
        "class lista_enlazada:\n",
        "  def __init__(self):\n",
        "    self.primero = None\n",
        "\n",
        "  def insertar(self,estudiante):\n",
        "    if self.primero is None:\n",
        "      self.primero = nodo(estudiante=estudiante)\n",
        "      return\n",
        "    actual= self.primero\n",
        "    while actual.siguiente:\n",
        "      actual = actual.siguiente\n",
        "    actual.siguiente = nodo(estudiante=estudiante)\n",
        "    \n",
        "  def recorrer(self):\n",
        "    actual = self.primero\n",
        "    while actual != None:\n",
        "      print(\"Carne: \",actual.estudiante.carne, \" Nombre: \",actual.estudiante.nombre, \" Email: \",actual.estudiante.email,\"---\")\n",
        "      actual= actual.siguiente\n",
        "\n",
        "  def eliminar(self,carne):\n",
        "    actual = self.primero\n",
        "    anterior = None\n",
        "    while actual and actual.estudiante.carne != carne:\n",
        "      anterior=actual\n",
        "      actual = actual.siguiente\n",
        "    if anterior is None:\n",
        "      self.primero = actual.siguiente\n",
        "      actual.siguiente = None\n",
        "    elif actual:\n",
        "      anterior.siguiente = actual.siguiente\n",
        "      actual.siguiente = None\n",
        "\n",
        "  def buscar(self,carne):\n",
        "    actual = self.primero\n",
        "    while actual and actual.estudiante.carne != carne:\n",
        "      actual = actual.siguiente\n",
        "    print(\"Carne: \",actual.estudiante.carne, \" Nombre: \",actual.estudiante.nombre, \" Email: \",actual.estudiante.email,\"---\")\n",
        "  \n",
        "\n",
        "    \n",
        "   \n",
        "\n",
        "\n",
        "\n",
        "\n",
        "\n",
        "\n"
      ],
      "execution_count": 75,
      "outputs": []
    },
    {
      "cell_type": "markdown",
      "metadata": {
        "id": "IXfL-HGTsbmY"
      },
      "source": [
        "**Creacción de Objetos Estudiante**\n"
      ]
    },
    {
      "cell_type": "code",
      "metadata": {
        "id": "kX98rDYlsmEG"
      },
      "source": [
        "e1 = estudiante(201915059,\"Gerson Ortiz\",20,\"9 calle 10-02 zona 1\",24400101,\"gerson.ortiz@gmail.com\",\"Ingeniería en sistemas\",\"Programador Jr\")\n",
        "e2 = estudiante(201915060,\"Karen Hurarte\",20,\"7 calle 10-02 zona 1\",24400102,\"karen.hurarte@gmail.com\",\"Ingeniería en sistemas\",\"Programador Jr\")\n",
        "e3 = estudiante(201915051,\"Luis Mendez\",20,\"8 calle 10-02 zona 1\",24400103,\"luis.mendez@gmail.com\",\"Ingeniería en sistemas\",\"Programador Jr\")"
      ],
      "execution_count": 76,
      "outputs": []
    },
    {
      "cell_type": "markdown",
      "metadata": {
        "id": "Z33PWaumtjDi"
      },
      "source": [
        "**Inserción**\n"
      ]
    },
    {
      "cell_type": "code",
      "metadata": {
        "id": "ah2CiKgNth3d"
      },
      "source": [
        "lista_e = lista_enlazada()\n",
        "lista_e.insertar(e1)\n",
        "lista_e.insertar(e2)\n",
        "lista_e.insertar(e3)"
      ],
      "execution_count": 77,
      "outputs": []
    },
    {
      "cell_type": "markdown",
      "metadata": {
        "id": "yzn9pseSt_TM"
      },
      "source": [
        "**Recorrer**"
      ]
    },
    {
      "cell_type": "code",
      "metadata": {
        "id": "OJR9nWtCt-kP",
        "colab": {
          "base_uri": "https://localhost:8080/"
        },
        "outputId": "56c91dcf-03e8-497b-b770-51d6053e8c4a"
      },
      "source": [
        "lista_e.recorrer()"
      ],
      "execution_count": 78,
      "outputs": [
        {
          "output_type": "stream",
          "text": [
            "Carne:  201915059  Nombre:  Gerson Ortiz  Email:  gerson.ortiz@gmail.com ---\n",
            "Carne:  201915060  Nombre:  Karen Hurarte  Email:  karen.hurarte@gmail.com ---\n",
            "Carne:  201915051  Nombre:  Luis Mendez  Email:  luis.mendez@gmail.com ---\n"
          ],
          "name": "stdout"
        }
      ]
    },
    {
      "cell_type": "markdown",
      "metadata": {
        "id": "eliLVSUOwtSW"
      },
      "source": [
        "**Eliminar un nodo de la lista**"
      ]
    },
    {
      "cell_type": "code",
      "metadata": {
        "colab": {
          "base_uri": "https://localhost:8080/"
        },
        "id": "mqAQasrNwxML",
        "outputId": "07612a02-ef87-4937-9025-9f08417ae259"
      },
      "source": [
        "lista_e.eliminar(201915060)\n",
        "lista_e.recorrer()"
      ],
      "execution_count": 79,
      "outputs": [
        {
          "output_type": "stream",
          "text": [
            "Carne:  201915059  Nombre:  Gerson Ortiz  Email:  gerson.ortiz@gmail.com ---\n",
            "Carne:  201915051  Nombre:  Luis Mendez  Email:  luis.mendez@gmail.com ---\n"
          ],
          "name": "stdout"
        }
      ]
    },
    {
      "cell_type": "markdown",
      "metadata": {
        "id": "fjNMRVn5PxAj"
      },
      "source": [
        "**Buscar un nodo de la lista**"
      ]
    },
    {
      "cell_type": "code",
      "metadata": {
        "colab": {
          "base_uri": "https://localhost:8080/"
        },
        "id": "3nVt_BtfPzrK",
        "outputId": "ef780fc4-af46-42f7-a09d-ed9cd8e58a32"
      },
      "source": [
        "lista_e.buscar(201915059)"
      ],
      "execution_count": 80,
      "outputs": [
        {
          "output_type": "stream",
          "text": [
            "Carne:  201915059  Nombre:  Gerson Ortiz  Email:  gerson.ortiz@gmail.com ---\n"
          ],
          "name": "stdout"
        }
      ]
    }
  ]
}